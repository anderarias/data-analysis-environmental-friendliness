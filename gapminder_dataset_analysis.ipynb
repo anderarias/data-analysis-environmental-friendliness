{
 "cells": [
  {
   "cell_type": "markdown",
   "metadata": {},
   "source": [
    "# Gapminder Dataset Analysis about Environmental Friendliness\n",
    "\n",
    "\n",
    "## Table of Contents\n",
    "<ul>\n",
    "<li><a href=\"#intro\">Introduction</a></li>\n",
    "<li><a href=\"#wrangling\">Data Wrangling</a></li>\n",
    "<li><a href=\"#eda\">Exploratory Data Analysis</a></li>\n",
    "<li><a href=\"#conclusions\">Conclusions</a></li>\n",
    "<li><a href=\"#limitations\">Limitations</a></li>\n",
    "</ul>"
   ]
  },
  {
   "cell_type": "markdown",
   "metadata": {},
   "source": [
    "<a id='intro'></a>\n",
    "## Introduction\n",
    "\n",
    "In this project we will analyze the data related to 3 countries (Colombia, Japan, United States) taken from the [Gapminder World dataset](http://www.gapminder.org/data/), and perform a comparison in order to answer which one of these 3 countries is the most environmentally friendly.\n",
    "\n",
    "More specifically, we would like to try to answer the following questions based on their respective dataset:\n",
    "<ul>\n",
    "<li>How do these 3 countries (Colombia, Japan, United States) compare in terms of annual CO2 emmitions per person?</li>\n",
    "<li>How do these countries (Colombia, Japan, United States) compare in terms of annual residential electricity use per person?</li>\n",
    "<li>How do these countries (Colombia, Japan, United States) compare in terms of percentage of annual electricity production from renewable sources?</li>\n",
    "</ul>\n",
    "\n",
    "In order to do this, we will download and use 3 different datasets, where the dependent variable is the year, and the independent variable is each one of the parameters described in the questions above, for each of the 3 target countries."
   ]
  },
  {
   "cell_type": "code",
   "execution_count": 2,
   "metadata": {},
   "outputs": [],
   "source": [
    "# Import statements of the required packages\n",
    "import pandas as pd\n",
    "import numpy as numpy\n",
    "import matplotlib.pyplot as plt\n",
    "%matplotlib inline"
   ]
  },
  {
   "cell_type": "markdown",
   "metadata": {},
   "source": [
    "<a id='wrangling'></a>\n",
    "## Data Wrangling\n",
    "\n",
    "In this section we will check the general properties of the dataset, and perform some cleaning operations, such as reorganizing and removing unnecessary data.\n",
    "\n",
    "### General Properties"
   ]
  },
  {
   "cell_type": "markdown",
   "metadata": {},
   "source": [
    "First of all, let's load the dataset related to annual CO2 emissions per person."
   ]
  },
  {
   "cell_type": "code",
   "execution_count": 3,
   "metadata": {},
   "outputs": [],
   "source": [
    "# Load dataset about CO2 emissions per person\n",
    "df = pd.read_csv(\"data/co2_emissions_tonnes_per_person.csv\")"
   ]
  },
  {
   "cell_type": "markdown",
   "metadata": {},
   "source": [
    "Now let's take a look at the first rows of the dataset."
   ]
  },
  {
   "cell_type": "code",
   "execution_count": 4,
   "metadata": {},
   "outputs": [
    {
     "data": {
      "text/html": [
       "<div>\n",
       "<style scoped>\n",
       "    .dataframe tbody tr th:only-of-type {\n",
       "        vertical-align: middle;\n",
       "    }\n",
       "\n",
       "    .dataframe tbody tr th {\n",
       "        vertical-align: top;\n",
       "    }\n",
       "\n",
       "    .dataframe thead th {\n",
       "        text-align: right;\n",
       "    }\n",
       "</style>\n",
       "<table border=\"1\" class=\"dataframe\">\n",
       "  <thead>\n",
       "    <tr style=\"text-align: right;\">\n",
       "      <th></th>\n",
       "      <th>country</th>\n",
       "      <th>1800</th>\n",
       "      <th>1801</th>\n",
       "      <th>1802</th>\n",
       "      <th>1803</th>\n",
       "      <th>1804</th>\n",
       "      <th>1805</th>\n",
       "      <th>1806</th>\n",
       "      <th>1807</th>\n",
       "      <th>1808</th>\n",
       "      <th>...</th>\n",
       "      <th>2005</th>\n",
       "      <th>2006</th>\n",
       "      <th>2007</th>\n",
       "      <th>2008</th>\n",
       "      <th>2009</th>\n",
       "      <th>2010</th>\n",
       "      <th>2011</th>\n",
       "      <th>2012</th>\n",
       "      <th>2013</th>\n",
       "      <th>2014</th>\n",
       "    </tr>\n",
       "  </thead>\n",
       "  <tbody>\n",
       "    <tr>\n",
       "      <th>0</th>\n",
       "      <td>Afghanistan</td>\n",
       "      <td>NaN</td>\n",
       "      <td>NaN</td>\n",
       "      <td>NaN</td>\n",
       "      <td>NaN</td>\n",
       "      <td>NaN</td>\n",
       "      <td>NaN</td>\n",
       "      <td>NaN</td>\n",
       "      <td>NaN</td>\n",
       "      <td>NaN</td>\n",
       "      <td>...</td>\n",
       "      <td>0.0517</td>\n",
       "      <td>0.0624</td>\n",
       "      <td>0.0839</td>\n",
       "      <td>0.152</td>\n",
       "      <td>0.238</td>\n",
       "      <td>0.29</td>\n",
       "      <td>0.406</td>\n",
       "      <td>0.345</td>\n",
       "      <td>0.31</td>\n",
       "      <td>0.294</td>\n",
       "    </tr>\n",
       "    <tr>\n",
       "      <th>1</th>\n",
       "      <td>Albania</td>\n",
       "      <td>NaN</td>\n",
       "      <td>NaN</td>\n",
       "      <td>NaN</td>\n",
       "      <td>NaN</td>\n",
       "      <td>NaN</td>\n",
       "      <td>NaN</td>\n",
       "      <td>NaN</td>\n",
       "      <td>NaN</td>\n",
       "      <td>NaN</td>\n",
       "      <td>...</td>\n",
       "      <td>1.3800</td>\n",
       "      <td>1.2700</td>\n",
       "      <td>1.2900</td>\n",
       "      <td>1.460</td>\n",
       "      <td>1.470</td>\n",
       "      <td>1.56</td>\n",
       "      <td>1.790</td>\n",
       "      <td>1.680</td>\n",
       "      <td>1.74</td>\n",
       "      <td>1.970</td>\n",
       "    </tr>\n",
       "    <tr>\n",
       "      <th>2</th>\n",
       "      <td>Algeria</td>\n",
       "      <td>NaN</td>\n",
       "      <td>NaN</td>\n",
       "      <td>NaN</td>\n",
       "      <td>NaN</td>\n",
       "      <td>NaN</td>\n",
       "      <td>NaN</td>\n",
       "      <td>NaN</td>\n",
       "      <td>NaN</td>\n",
       "      <td>NaN</td>\n",
       "      <td>...</td>\n",
       "      <td>3.2400</td>\n",
       "      <td>3.0000</td>\n",
       "      <td>3.2000</td>\n",
       "      <td>3.170</td>\n",
       "      <td>3.440</td>\n",
       "      <td>3.31</td>\n",
       "      <td>3.310</td>\n",
       "      <td>3.480</td>\n",
       "      <td>3.53</td>\n",
       "      <td>3.740</td>\n",
       "    </tr>\n",
       "    <tr>\n",
       "      <th>3</th>\n",
       "      <td>Andorra</td>\n",
       "      <td>NaN</td>\n",
       "      <td>NaN</td>\n",
       "      <td>NaN</td>\n",
       "      <td>NaN</td>\n",
       "      <td>NaN</td>\n",
       "      <td>NaN</td>\n",
       "      <td>NaN</td>\n",
       "      <td>NaN</td>\n",
       "      <td>NaN</td>\n",
       "      <td>...</td>\n",
       "      <td>7.3000</td>\n",
       "      <td>6.7500</td>\n",
       "      <td>6.5200</td>\n",
       "      <td>6.430</td>\n",
       "      <td>6.120</td>\n",
       "      <td>6.12</td>\n",
       "      <td>5.870</td>\n",
       "      <td>5.920</td>\n",
       "      <td>5.90</td>\n",
       "      <td>5.830</td>\n",
       "    </tr>\n",
       "    <tr>\n",
       "      <th>4</th>\n",
       "      <td>Angola</td>\n",
       "      <td>NaN</td>\n",
       "      <td>NaN</td>\n",
       "      <td>NaN</td>\n",
       "      <td>NaN</td>\n",
       "      <td>NaN</td>\n",
       "      <td>NaN</td>\n",
       "      <td>NaN</td>\n",
       "      <td>NaN</td>\n",
       "      <td>NaN</td>\n",
       "      <td>...</td>\n",
       "      <td>0.9860</td>\n",
       "      <td>1.1100</td>\n",
       "      <td>1.2000</td>\n",
       "      <td>1.190</td>\n",
       "      <td>1.230</td>\n",
       "      <td>1.24</td>\n",
       "      <td>1.250</td>\n",
       "      <td>1.330</td>\n",
       "      <td>1.25</td>\n",
       "      <td>1.290</td>\n",
       "    </tr>\n",
       "  </tbody>\n",
       "</table>\n",
       "<p>5 rows × 216 columns</p>\n",
       "</div>"
      ],
      "text/plain": [
       "       country  1800  1801  1802  1803  1804  1805  1806  1807  1808  ...  \\\n",
       "0  Afghanistan   NaN   NaN   NaN   NaN   NaN   NaN   NaN   NaN   NaN  ...   \n",
       "1      Albania   NaN   NaN   NaN   NaN   NaN   NaN   NaN   NaN   NaN  ...   \n",
       "2      Algeria   NaN   NaN   NaN   NaN   NaN   NaN   NaN   NaN   NaN  ...   \n",
       "3      Andorra   NaN   NaN   NaN   NaN   NaN   NaN   NaN   NaN   NaN  ...   \n",
       "4       Angola   NaN   NaN   NaN   NaN   NaN   NaN   NaN   NaN   NaN  ...   \n",
       "\n",
       "     2005    2006    2007   2008   2009  2010   2011   2012  2013   2014  \n",
       "0  0.0517  0.0624  0.0839  0.152  0.238  0.29  0.406  0.345  0.31  0.294  \n",
       "1  1.3800  1.2700  1.2900  1.460  1.470  1.56  1.790  1.680  1.74  1.970  \n",
       "2  3.2400  3.0000  3.2000  3.170  3.440  3.31  3.310  3.480  3.53  3.740  \n",
       "3  7.3000  6.7500  6.5200  6.430  6.120  6.12  5.870  5.920  5.90  5.830  \n",
       "4  0.9860  1.1100  1.2000  1.190  1.230  1.24  1.250  1.330  1.25  1.290  \n",
       "\n",
       "[5 rows x 216 columns]"
      ]
     },
     "execution_count": 4,
     "metadata": {},
     "output_type": "execute_result"
    }
   ],
   "source": [
    "df.head()"
   ]
  },
  {
   "cell_type": "markdown",
   "metadata": {},
   "source": [
    "It seems there are many rows with missing values, and also each year has been registered as a diferent column. For now, let's try to reorganize the year related information now, and deal with the missing values issue later."
   ]
  },
  {
   "cell_type": "markdown",
   "metadata": {},
   "source": [
    "We would like to have the year related information as a single column. So let's create another dataframe, called df_co2_emissions, where the year related information is contained within a single column."
   ]
  },
  {
   "cell_type": "code",
   "execution_count": 5,
   "metadata": {},
   "outputs": [],
   "source": [
    "df_co2_emissions = pd.DataFrame()\n",
    "df_co2_emissions[\"year\"] = pd.Series(df.columns[1:])"
   ]
  },
  {
   "cell_type": "markdown",
   "metadata": {},
   "source": [
    "To confirm, let's check the first 5 rows of the newly created dataframe, as well as its shape."
   ]
  },
  {
   "cell_type": "code",
   "execution_count": 6,
   "metadata": {},
   "outputs": [
    {
     "name": "stdout",
     "output_type": "stream",
     "text": [
      "   year\n",
      "0  1800\n",
      "1  1801\n",
      "2  1802\n",
      "3  1803\n",
      "4  1804\n"
     ]
    },
    {
     "data": {
      "text/plain": [
       "(215, 1)"
      ]
     },
     "execution_count": 6,
     "metadata": {},
     "output_type": "execute_result"
    }
   ],
   "source": [
    "print(df_co2_emissions.head())\n",
    "df_co2_emissions.shape"
   ]
  },
  {
   "cell_type": "markdown",
   "metadata": {},
   "source": [
    "It looks ok so far. Now, let's extract the information related to the countries we are interested in.  \n",
    "Since we will do the same operation several times, let's create a function in order to avoid repetitive code."
   ]
  },
  {
   "cell_type": "code",
   "execution_count": 7,
   "metadata": {},
   "outputs": [],
   "source": [
    "def extract_countries_info(original_df, new_df, columns_name_beginning):\n",
    "    countries = [\"Colombia\", \"Japan\", \"United States\"]\n",
    "    for c in countries:\n",
    "        column_name = columns_name_beginning + \"_\" + c\n",
    "        if \" \" in column_name:\n",
    "            column_name = column_name.replace(\" \", \"_\")\n",
    "        new_df[column_name] = original_df[original_df.country == c].values[0][1:]"
   ]
  },
  {
   "cell_type": "markdown",
   "metadata": {},
   "source": [
    "Let's try using this function in order to add the target countries information to our df_co2_emissions dataframe."
   ]
  },
  {
   "cell_type": "code",
   "execution_count": 8,
   "metadata": {},
   "outputs": [],
   "source": [
    "columns_name_beginning = \"co2\"\n",
    "extract_countries_info(df,df_co2_emissions,columns_name_beginning)"
   ]
  },
  {
   "cell_type": "code",
   "execution_count": 9,
   "metadata": {},
   "outputs": [
    {
     "data": {
      "text/html": [
       "<div>\n",
       "<style scoped>\n",
       "    .dataframe tbody tr th:only-of-type {\n",
       "        vertical-align: middle;\n",
       "    }\n",
       "\n",
       "    .dataframe tbody tr th {\n",
       "        vertical-align: top;\n",
       "    }\n",
       "\n",
       "    .dataframe thead th {\n",
       "        text-align: right;\n",
       "    }\n",
       "</style>\n",
       "<table border=\"1\" class=\"dataframe\">\n",
       "  <thead>\n",
       "    <tr style=\"text-align: right;\">\n",
       "      <th></th>\n",
       "      <th>year</th>\n",
       "      <th>co2_Colombia</th>\n",
       "      <th>co2_Japan</th>\n",
       "      <th>co2_United_States</th>\n",
       "    </tr>\n",
       "  </thead>\n",
       "  <tbody>\n",
       "    <tr>\n",
       "      <th>0</th>\n",
       "      <td>1800</td>\n",
       "      <td>NaN</td>\n",
       "      <td>NaN</td>\n",
       "      <td>0.0422</td>\n",
       "    </tr>\n",
       "    <tr>\n",
       "      <th>1</th>\n",
       "      <td>1801</td>\n",
       "      <td>NaN</td>\n",
       "      <td>NaN</td>\n",
       "      <td>0.0438</td>\n",
       "    </tr>\n",
       "    <tr>\n",
       "      <th>2</th>\n",
       "      <td>1802</td>\n",
       "      <td>NaN</td>\n",
       "      <td>NaN</td>\n",
       "      <td>0.0465</td>\n",
       "    </tr>\n",
       "    <tr>\n",
       "      <th>3</th>\n",
       "      <td>1803</td>\n",
       "      <td>NaN</td>\n",
       "      <td>NaN</td>\n",
       "      <td>0.0468</td>\n",
       "    </tr>\n",
       "    <tr>\n",
       "      <th>4</th>\n",
       "      <td>1804</td>\n",
       "      <td>NaN</td>\n",
       "      <td>NaN</td>\n",
       "      <td>0.0516</td>\n",
       "    </tr>\n",
       "  </tbody>\n",
       "</table>\n",
       "</div>"
      ],
      "text/plain": [
       "   year co2_Colombia co2_Japan co2_United_States\n",
       "0  1800          NaN       NaN            0.0422\n",
       "1  1801          NaN       NaN            0.0438\n",
       "2  1802          NaN       NaN            0.0465\n",
       "3  1803          NaN       NaN            0.0468\n",
       "4  1804          NaN       NaN            0.0516"
      ]
     },
     "execution_count": 9,
     "metadata": {},
     "output_type": "execute_result"
    }
   ],
   "source": [
    "df_co2_emissions.head()"
   ]
  },
  {
   "cell_type": "markdown",
   "metadata": {},
   "source": [
    "Ok, now we have the information needed for our analysis. But it seems there are many rows containing missing values. Let's check more details about our dataframe."
   ]
  },
  {
   "cell_type": "code",
   "execution_count": 10,
   "metadata": {},
   "outputs": [
    {
     "name": "stdout",
     "output_type": "stream",
     "text": [
      "<class 'pandas.core.frame.DataFrame'>\n",
      "RangeIndex: 215 entries, 0 to 214\n",
      "Data columns (total 4 columns):\n",
      " #   Column             Non-Null Count  Dtype \n",
      "---  ------             --------------  ----- \n",
      " 0   year               215 non-null    object\n",
      " 1   co2_Colombia       94 non-null     object\n",
      " 2   co2_Japan          147 non-null    object\n",
      " 3   co2_United_States  215 non-null    object\n",
      "dtypes: object(4)\n",
      "memory usage: 6.8+ KB\n"
     ]
    }
   ],
   "source": [
    "df_co2_emissions.info()"
   ]
  },
  {
   "cell_type": "markdown",
   "metadata": {},
   "source": [
    "It seems also that the data type of all columns is currently considered as string, so this needs to be corrected."
   ]
  },
  {
   "cell_type": "code",
   "execution_count": 11,
   "metadata": {},
   "outputs": [],
   "source": [
    "df_co2_emissions = df_co2_emissions.astype({\"year\":\"int64\", \"co2_Colombia\":\"float64\", \"co2_Japan\":\"float64\", \"co2_United_States\":\"float64\"})"
   ]
  },
  {
   "cell_type": "markdown",
   "metadata": {},
   "source": [
    "Let's confirm the updated data types."
   ]
  },
  {
   "cell_type": "code",
   "execution_count": 12,
   "metadata": {},
   "outputs": [
    {
     "data": {
      "text/plain": [
       "year                   int64\n",
       "co2_Colombia         float64\n",
       "co2_Japan            float64\n",
       "co2_United_States    float64\n",
       "dtype: object"
      ]
     },
     "execution_count": 12,
     "metadata": {},
     "output_type": "execute_result"
    }
   ],
   "source": [
    "df_co2_emissions.dtypes"
   ]
  },
  {
   "cell_type": "markdown",
   "metadata": {},
   "source": [
    "Ok, it looks good. Now, let's remove the rows with missing values. The reason is that we would like to compare values between the 3 target countries, so we need to have an actual value on all of them to make a fair comparison. The downside is that the number of rows on our dataset becomes considerably reduced."
   ]
  },
  {
   "cell_type": "code",
   "execution_count": 13,
   "metadata": {},
   "outputs": [],
   "source": [
    "df_co2_emissions.dropna(inplace=True)\n",
    "df_co2_emissions.reset_index(drop=True, inplace=True)"
   ]
  },
  {
   "cell_type": "markdown",
   "metadata": {},
   "source": [
    "Let's check again about the dataframe again."
   ]
  },
  {
   "cell_type": "code",
   "execution_count": 14,
   "metadata": {},
   "outputs": [
    {
     "name": "stdout",
     "output_type": "stream",
     "text": [
      "<class 'pandas.core.frame.DataFrame'>\n",
      "RangeIndex: 94 entries, 0 to 93\n",
      "Data columns (total 4 columns):\n",
      " #   Column             Non-Null Count  Dtype  \n",
      "---  ------             --------------  -----  \n",
      " 0   year               94 non-null     int64  \n",
      " 1   co2_Colombia       94 non-null     float64\n",
      " 2   co2_Japan          94 non-null     float64\n",
      " 3   co2_United_States  94 non-null     float64\n",
      "dtypes: float64(3), int64(1)\n",
      "memory usage: 3.1 KB\n"
     ]
    }
   ],
   "source": [
    "df_co2_emissions.info()"
   ]
  },
  {
   "cell_type": "markdown",
   "metadata": {},
   "source": [
    "Good! There are no missing values, and dtype is correct. But the number of rows has dropped to 94."
   ]
  },
  {
   "cell_type": "markdown",
   "metadata": {},
   "source": [
    "Now, let's repeat the same process with the remaining 2 datasets."
   ]
  },
  {
   "cell_type": "markdown",
   "metadata": {},
   "source": [
    "### Cleaning of dataset for residential electricity use per person"
   ]
  },
  {
   "cell_type": "code",
   "execution_count": 15,
   "metadata": {},
   "outputs": [
    {
     "data": {
      "text/html": [
       "<div>\n",
       "<style scoped>\n",
       "    .dataframe tbody tr th:only-of-type {\n",
       "        vertical-align: middle;\n",
       "    }\n",
       "\n",
       "    .dataframe tbody tr th {\n",
       "        vertical-align: top;\n",
       "    }\n",
       "\n",
       "    .dataframe thead th {\n",
       "        text-align: right;\n",
       "    }\n",
       "</style>\n",
       "<table border=\"1\" class=\"dataframe\">\n",
       "  <thead>\n",
       "    <tr style=\"text-align: right;\">\n",
       "      <th></th>\n",
       "      <th>country</th>\n",
       "      <th>1960</th>\n",
       "      <th>1961</th>\n",
       "      <th>1962</th>\n",
       "      <th>1963</th>\n",
       "      <th>1964</th>\n",
       "      <th>1965</th>\n",
       "      <th>1966</th>\n",
       "      <th>1967</th>\n",
       "      <th>1968</th>\n",
       "      <th>...</th>\n",
       "      <th>1999</th>\n",
       "      <th>2000</th>\n",
       "      <th>2001</th>\n",
       "      <th>2002</th>\n",
       "      <th>2003</th>\n",
       "      <th>2004</th>\n",
       "      <th>2005</th>\n",
       "      <th>2006</th>\n",
       "      <th>2007</th>\n",
       "      <th>2008</th>\n",
       "    </tr>\n",
       "  </thead>\n",
       "  <tbody>\n",
       "    <tr>\n",
       "      <th>0</th>\n",
       "      <td>Albania</td>\n",
       "      <td>NaN</td>\n",
       "      <td>NaN</td>\n",
       "      <td>NaN</td>\n",
       "      <td>NaN</td>\n",
       "      <td>NaN</td>\n",
       "      <td>NaN</td>\n",
       "      <td>NaN</td>\n",
       "      <td>NaN</td>\n",
       "      <td>NaN</td>\n",
       "      <td>...</td>\n",
       "      <td>643.0</td>\n",
       "      <td>709.0</td>\n",
       "      <td>689.0</td>\n",
       "      <td>875.0</td>\n",
       "      <td>854.0</td>\n",
       "      <td>788.0</td>\n",
       "      <td>767.0</td>\n",
       "      <td>552.0</td>\n",
       "      <td>575.0</td>\n",
       "      <td>636.0</td>\n",
       "    </tr>\n",
       "    <tr>\n",
       "      <th>1</th>\n",
       "      <td>Algeria</td>\n",
       "      <td>NaN</td>\n",
       "      <td>NaN</td>\n",
       "      <td>NaN</td>\n",
       "      <td>NaN</td>\n",
       "      <td>NaN</td>\n",
       "      <td>NaN</td>\n",
       "      <td>NaN</td>\n",
       "      <td>NaN</td>\n",
       "      <td>NaN</td>\n",
       "      <td>...</td>\n",
       "      <td>353.0</td>\n",
       "      <td>373.0</td>\n",
       "      <td>390.0</td>\n",
       "      <td>410.0</td>\n",
       "      <td>452.0</td>\n",
       "      <td>466.0</td>\n",
       "      <td>533.0</td>\n",
       "      <td>504.0</td>\n",
       "      <td>532.0</td>\n",
       "      <td>591.0</td>\n",
       "    </tr>\n",
       "    <tr>\n",
       "      <th>2</th>\n",
       "      <td>Angola</td>\n",
       "      <td>NaN</td>\n",
       "      <td>NaN</td>\n",
       "      <td>NaN</td>\n",
       "      <td>NaN</td>\n",
       "      <td>NaN</td>\n",
       "      <td>NaN</td>\n",
       "      <td>NaN</td>\n",
       "      <td>NaN</td>\n",
       "      <td>NaN</td>\n",
       "      <td>...</td>\n",
       "      <td>71.6</td>\n",
       "      <td>76.1</td>\n",
       "      <td>84.9</td>\n",
       "      <td>89.4</td>\n",
       "      <td>98.3</td>\n",
       "      <td>107.0</td>\n",
       "      <td>123.0</td>\n",
       "      <td>134.0</td>\n",
       "      <td>147.0</td>\n",
       "      <td>173.0</td>\n",
       "    </tr>\n",
       "    <tr>\n",
       "      <th>3</th>\n",
       "      <td>Argentina</td>\n",
       "      <td>NaN</td>\n",
       "      <td>NaN</td>\n",
       "      <td>NaN</td>\n",
       "      <td>NaN</td>\n",
       "      <td>NaN</td>\n",
       "      <td>NaN</td>\n",
       "      <td>NaN</td>\n",
       "      <td>NaN</td>\n",
       "      <td>NaN</td>\n",
       "      <td>...</td>\n",
       "      <td>555.0</td>\n",
       "      <td>570.0</td>\n",
       "      <td>578.0</td>\n",
       "      <td>554.0</td>\n",
       "      <td>557.0</td>\n",
       "      <td>575.0</td>\n",
       "      <td>615.0</td>\n",
       "      <td>654.0</td>\n",
       "      <td>709.0</td>\n",
       "      <td>768.0</td>\n",
       "    </tr>\n",
       "    <tr>\n",
       "      <th>4</th>\n",
       "      <td>Armenia</td>\n",
       "      <td>NaN</td>\n",
       "      <td>NaN</td>\n",
       "      <td>NaN</td>\n",
       "      <td>NaN</td>\n",
       "      <td>NaN</td>\n",
       "      <td>NaN</td>\n",
       "      <td>NaN</td>\n",
       "      <td>NaN</td>\n",
       "      <td>NaN</td>\n",
       "      <td>...</td>\n",
       "      <td>531.0</td>\n",
       "      <td>512.0</td>\n",
       "      <td>488.0</td>\n",
       "      <td>497.0</td>\n",
       "      <td>534.0</td>\n",
       "      <td>550.0</td>\n",
       "      <td>578.0</td>\n",
       "      <td>574.0</td>\n",
       "      <td>595.0</td>\n",
       "      <td>604.0</td>\n",
       "    </tr>\n",
       "  </tbody>\n",
       "</table>\n",
       "<p>5 rows × 50 columns</p>\n",
       "</div>"
      ],
      "text/plain": [
       "     country  1960  1961  1962  1963  1964  1965  1966  1967  1968  ...  \\\n",
       "0    Albania   NaN   NaN   NaN   NaN   NaN   NaN   NaN   NaN   NaN  ...   \n",
       "1    Algeria   NaN   NaN   NaN   NaN   NaN   NaN   NaN   NaN   NaN  ...   \n",
       "2     Angola   NaN   NaN   NaN   NaN   NaN   NaN   NaN   NaN   NaN  ...   \n",
       "3  Argentina   NaN   NaN   NaN   NaN   NaN   NaN   NaN   NaN   NaN  ...   \n",
       "4    Armenia   NaN   NaN   NaN   NaN   NaN   NaN   NaN   NaN   NaN  ...   \n",
       "\n",
       "    1999   2000   2001   2002   2003   2004   2005   2006   2007   2008  \n",
       "0  643.0  709.0  689.0  875.0  854.0  788.0  767.0  552.0  575.0  636.0  \n",
       "1  353.0  373.0  390.0  410.0  452.0  466.0  533.0  504.0  532.0  591.0  \n",
       "2   71.6   76.1   84.9   89.4   98.3  107.0  123.0  134.0  147.0  173.0  \n",
       "3  555.0  570.0  578.0  554.0  557.0  575.0  615.0  654.0  709.0  768.0  \n",
       "4  531.0  512.0  488.0  497.0  534.0  550.0  578.0  574.0  595.0  604.0  \n",
       "\n",
       "[5 rows x 50 columns]"
      ]
     },
     "execution_count": 15,
     "metadata": {},
     "output_type": "execute_result"
    }
   ],
   "source": [
    "# Load dataset about residential electricity use per person\n",
    "df = pd.read_csv(\"data/residential_electricity_use_per_person.csv\")\n",
    "df.head()"
   ]
  },
  {
   "cell_type": "code",
   "execution_count": 16,
   "metadata": {},
   "outputs": [],
   "source": [
    "# Create a new dataframe with year information as a column\n",
    "df_electricity_use = pd.DataFrame()\n",
    "df_electricity_use[\"year\"] = pd.Series(df.columns[1:])"
   ]
  },
  {
   "cell_type": "code",
   "execution_count": 17,
   "metadata": {},
   "outputs": [
    {
     "data": {
      "text/html": [
       "<div>\n",
       "<style scoped>\n",
       "    .dataframe tbody tr th:only-of-type {\n",
       "        vertical-align: middle;\n",
       "    }\n",
       "\n",
       "    .dataframe tbody tr th {\n",
       "        vertical-align: top;\n",
       "    }\n",
       "\n",
       "    .dataframe thead th {\n",
       "        text-align: right;\n",
       "    }\n",
       "</style>\n",
       "<table border=\"1\" class=\"dataframe\">\n",
       "  <thead>\n",
       "    <tr style=\"text-align: right;\">\n",
       "      <th></th>\n",
       "      <th>year</th>\n",
       "      <th>electricity_Colombia</th>\n",
       "      <th>electricity_Japan</th>\n",
       "      <th>electricity_United_States</th>\n",
       "    </tr>\n",
       "  </thead>\n",
       "  <tbody>\n",
       "    <tr>\n",
       "      <th>0</th>\n",
       "      <td>1960</td>\n",
       "      <td>NaN</td>\n",
       "      <td>173</td>\n",
       "      <td>1110</td>\n",
       "    </tr>\n",
       "    <tr>\n",
       "      <th>1</th>\n",
       "      <td>1961</td>\n",
       "      <td>NaN</td>\n",
       "      <td>202</td>\n",
       "      <td>1170</td>\n",
       "    </tr>\n",
       "    <tr>\n",
       "      <th>2</th>\n",
       "      <td>1962</td>\n",
       "      <td>NaN</td>\n",
       "      <td>239</td>\n",
       "      <td>1250</td>\n",
       "    </tr>\n",
       "    <tr>\n",
       "      <th>3</th>\n",
       "      <td>1963</td>\n",
       "      <td>NaN</td>\n",
       "      <td>278</td>\n",
       "      <td>1330</td>\n",
       "    </tr>\n",
       "    <tr>\n",
       "      <th>4</th>\n",
       "      <td>1964</td>\n",
       "      <td>NaN</td>\n",
       "      <td>321</td>\n",
       "      <td>1420</td>\n",
       "    </tr>\n",
       "  </tbody>\n",
       "</table>\n",
       "</div>"
      ],
      "text/plain": [
       "   year electricity_Colombia electricity_Japan electricity_United_States\n",
       "0  1960                  NaN               173                      1110\n",
       "1  1961                  NaN               202                      1170\n",
       "2  1962                  NaN               239                      1250\n",
       "3  1963                  NaN               278                      1330\n",
       "4  1964                  NaN               321                      1420"
      ]
     },
     "execution_count": 17,
     "metadata": {},
     "output_type": "execute_result"
    }
   ],
   "source": [
    "# Extract information for each relevant country\n",
    "columns_name_beginning = \"electricity\"\n",
    "extract_countries_info(df,df_electricity_use,columns_name_beginning)\n",
    "df_electricity_use.head()"
   ]
  },
  {
   "cell_type": "code",
   "execution_count": 18,
   "metadata": {},
   "outputs": [
    {
     "name": "stdout",
     "output_type": "stream",
     "text": [
      "<class 'pandas.core.frame.DataFrame'>\n",
      "RangeIndex: 49 entries, 0 to 48\n",
      "Data columns (total 4 columns):\n",
      " #   Column                     Non-Null Count  Dtype \n",
      "---  ------                     --------------  ----- \n",
      " 0   year                       49 non-null     object\n",
      " 1   electricity_Colombia       38 non-null     object\n",
      " 2   electricity_Japan          49 non-null     object\n",
      " 3   electricity_United_States  49 non-null     object\n",
      "dtypes: object(4)\n",
      "memory usage: 1.7+ KB\n"
     ]
    }
   ],
   "source": [
    "df_electricity_use.info()"
   ]
  },
  {
   "cell_type": "code",
   "execution_count": 19,
   "metadata": {},
   "outputs": [
    {
     "data": {
      "text/plain": [
       "year                           int64\n",
       "electricity_Colombia         float64\n",
       "electricity_Japan            float64\n",
       "electricity_United_States    float64\n",
       "dtype: object"
      ]
     },
     "execution_count": 19,
     "metadata": {},
     "output_type": "execute_result"
    }
   ],
   "source": [
    "# Correct the data type of all columns\n",
    "df_electricity_use = df_electricity_use.astype({\"year\":\"int64\", \"electricity_Colombia\":\"float64\", \"electricity_Japan\":\"float64\", \"electricity_United_States\":\"float64\"})\n",
    "df_electricity_use.dtypes"
   ]
  },
  {
   "cell_type": "code",
   "execution_count": 20,
   "metadata": {},
   "outputs": [
    {
     "name": "stdout",
     "output_type": "stream",
     "text": [
      "<class 'pandas.core.frame.DataFrame'>\n",
      "RangeIndex: 38 entries, 0 to 37\n",
      "Data columns (total 4 columns):\n",
      " #   Column                     Non-Null Count  Dtype  \n",
      "---  ------                     --------------  -----  \n",
      " 0   year                       38 non-null     int64  \n",
      " 1   electricity_Colombia       38 non-null     float64\n",
      " 2   electricity_Japan          38 non-null     float64\n",
      " 3   electricity_United_States  38 non-null     float64\n",
      "dtypes: float64(3), int64(1)\n",
      "memory usage: 1.3 KB\n"
     ]
    }
   ],
   "source": [
    "# Remove missing values\n",
    "df_electricity_use.dropna(inplace=True)\n",
    "df_electricity_use.reset_index(drop=True, inplace=True)\n",
    "df_electricity_use.info()"
   ]
  },
  {
   "cell_type": "code",
   "execution_count": 21,
   "metadata": {},
   "outputs": [
    {
     "data": {
      "text/html": [
       "<div>\n",
       "<style scoped>\n",
       "    .dataframe tbody tr th:only-of-type {\n",
       "        vertical-align: middle;\n",
       "    }\n",
       "\n",
       "    .dataframe tbody tr th {\n",
       "        vertical-align: top;\n",
       "    }\n",
       "\n",
       "    .dataframe thead th {\n",
       "        text-align: right;\n",
       "    }\n",
       "</style>\n",
       "<table border=\"1\" class=\"dataframe\">\n",
       "  <thead>\n",
       "    <tr style=\"text-align: right;\">\n",
       "      <th></th>\n",
       "      <th>year</th>\n",
       "      <th>electricity_Colombia</th>\n",
       "      <th>electricity_Japan</th>\n",
       "      <th>electricity_United_States</th>\n",
       "    </tr>\n",
       "  </thead>\n",
       "  <tbody>\n",
       "    <tr>\n",
       "      <th>0</th>\n",
       "      <td>1971</td>\n",
       "      <td>154.0</td>\n",
       "      <td>591.0</td>\n",
       "      <td>2380.0</td>\n",
       "    </tr>\n",
       "    <tr>\n",
       "      <th>1</th>\n",
       "      <td>1972</td>\n",
       "      <td>159.0</td>\n",
       "      <td>657.0</td>\n",
       "      <td>2680.0</td>\n",
       "    </tr>\n",
       "    <tr>\n",
       "      <th>2</th>\n",
       "      <td>1973</td>\n",
       "      <td>142.0</td>\n",
       "      <td>729.0</td>\n",
       "      <td>2730.0</td>\n",
       "    </tr>\n",
       "    <tr>\n",
       "      <th>3</th>\n",
       "      <td>1974</td>\n",
       "      <td>132.0</td>\n",
       "      <td>716.0</td>\n",
       "      <td>2700.0</td>\n",
       "    </tr>\n",
       "    <tr>\n",
       "      <th>4</th>\n",
       "      <td>1975</td>\n",
       "      <td>170.0</td>\n",
       "      <td>789.0</td>\n",
       "      <td>2720.0</td>\n",
       "    </tr>\n",
       "  </tbody>\n",
       "</table>\n",
       "</div>"
      ],
      "text/plain": [
       "   year  electricity_Colombia  electricity_Japan  electricity_United_States\n",
       "0  1971                 154.0              591.0                     2380.0\n",
       "1  1972                 159.0              657.0                     2680.0\n",
       "2  1973                 142.0              729.0                     2730.0\n",
       "3  1974                 132.0              716.0                     2700.0\n",
       "4  1975                 170.0              789.0                     2720.0"
      ]
     },
     "execution_count": 21,
     "metadata": {},
     "output_type": "execute_result"
    }
   ],
   "source": [
    "df_electricity_use.head()"
   ]
  },
  {
   "cell_type": "markdown",
   "metadata": {},
   "source": [
    "### Cleaning of dataset for electricity production from renewable sources"
   ]
  },
  {
   "cell_type": "code",
   "execution_count": 22,
   "metadata": {},
   "outputs": [
    {
     "data": {
      "text/html": [
       "<div>\n",
       "<style scoped>\n",
       "    .dataframe tbody tr th:only-of-type {\n",
       "        vertical-align: middle;\n",
       "    }\n",
       "\n",
       "    .dataframe tbody tr th {\n",
       "        vertical-align: top;\n",
       "    }\n",
       "\n",
       "    .dataframe thead th {\n",
       "        text-align: right;\n",
       "    }\n",
       "</style>\n",
       "<table border=\"1\" class=\"dataframe\">\n",
       "  <thead>\n",
       "    <tr style=\"text-align: right;\">\n",
       "      <th></th>\n",
       "      <th>country</th>\n",
       "      <th>1960</th>\n",
       "      <th>1961</th>\n",
       "      <th>1962</th>\n",
       "      <th>1963</th>\n",
       "      <th>1964</th>\n",
       "      <th>1965</th>\n",
       "      <th>1966</th>\n",
       "      <th>1967</th>\n",
       "      <th>1968</th>\n",
       "      <th>...</th>\n",
       "      <th>2006</th>\n",
       "      <th>2007</th>\n",
       "      <th>2008</th>\n",
       "      <th>2009</th>\n",
       "      <th>2010</th>\n",
       "      <th>2011</th>\n",
       "      <th>2012</th>\n",
       "      <th>2013</th>\n",
       "      <th>2014</th>\n",
       "      <th>2015</th>\n",
       "    </tr>\n",
       "  </thead>\n",
       "  <tbody>\n",
       "    <tr>\n",
       "      <th>0</th>\n",
       "      <td>Albania</td>\n",
       "      <td>NaN</td>\n",
       "      <td>NaN</td>\n",
       "      <td>NaN</td>\n",
       "      <td>NaN</td>\n",
       "      <td>NaN</td>\n",
       "      <td>NaN</td>\n",
       "      <td>NaN</td>\n",
       "      <td>NaN</td>\n",
       "      <td>NaN</td>\n",
       "      <td>...</td>\n",
       "      <td>0.00</td>\n",
       "      <td>0.0000</td>\n",
       "      <td>0.0000</td>\n",
       "      <td>0.0000</td>\n",
       "      <td>0.000</td>\n",
       "      <td>0.0000</td>\n",
       "      <td>0.0000</td>\n",
       "      <td>0.0000</td>\n",
       "      <td>0.0000</td>\n",
       "      <td>0.0000</td>\n",
       "    </tr>\n",
       "    <tr>\n",
       "      <th>1</th>\n",
       "      <td>Algeria</td>\n",
       "      <td>NaN</td>\n",
       "      <td>NaN</td>\n",
       "      <td>NaN</td>\n",
       "      <td>NaN</td>\n",
       "      <td>NaN</td>\n",
       "      <td>NaN</td>\n",
       "      <td>NaN</td>\n",
       "      <td>NaN</td>\n",
       "      <td>NaN</td>\n",
       "      <td>...</td>\n",
       "      <td>0.00</td>\n",
       "      <td>0.0000</td>\n",
       "      <td>0.0000</td>\n",
       "      <td>0.0000</td>\n",
       "      <td>0.000</td>\n",
       "      <td>0.0000</td>\n",
       "      <td>0.0000</td>\n",
       "      <td>0.0000</td>\n",
       "      <td>0.0000</td>\n",
       "      <td>0.1120</td>\n",
       "    </tr>\n",
       "    <tr>\n",
       "      <th>2</th>\n",
       "      <td>Angola</td>\n",
       "      <td>NaN</td>\n",
       "      <td>NaN</td>\n",
       "      <td>NaN</td>\n",
       "      <td>NaN</td>\n",
       "      <td>NaN</td>\n",
       "      <td>NaN</td>\n",
       "      <td>NaN</td>\n",
       "      <td>NaN</td>\n",
       "      <td>NaN</td>\n",
       "      <td>...</td>\n",
       "      <td>0.00</td>\n",
       "      <td>0.0000</td>\n",
       "      <td>0.0000</td>\n",
       "      <td>0.0000</td>\n",
       "      <td>0.000</td>\n",
       "      <td>0.0000</td>\n",
       "      <td>0.0000</td>\n",
       "      <td>0.0000</td>\n",
       "      <td>0.0000</td>\n",
       "      <td>0.0000</td>\n",
       "    </tr>\n",
       "    <tr>\n",
       "      <th>3</th>\n",
       "      <td>Argentina</td>\n",
       "      <td>NaN</td>\n",
       "      <td>NaN</td>\n",
       "      <td>NaN</td>\n",
       "      <td>NaN</td>\n",
       "      <td>NaN</td>\n",
       "      <td>NaN</td>\n",
       "      <td>NaN</td>\n",
       "      <td>NaN</td>\n",
       "      <td>NaN</td>\n",
       "      <td>...</td>\n",
       "      <td>1.62</td>\n",
       "      <td>1.5700</td>\n",
       "      <td>1.3300</td>\n",
       "      <td>1.1500</td>\n",
       "      <td>1.770</td>\n",
       "      <td>1.6600</td>\n",
       "      <td>2.0300</td>\n",
       "      <td>2.1200</td>\n",
       "      <td>1.9700</td>\n",
       "      <td>1.9000</td>\n",
       "    </tr>\n",
       "    <tr>\n",
       "      <th>4</th>\n",
       "      <td>Armenia</td>\n",
       "      <td>NaN</td>\n",
       "      <td>NaN</td>\n",
       "      <td>NaN</td>\n",
       "      <td>NaN</td>\n",
       "      <td>NaN</td>\n",
       "      <td>NaN</td>\n",
       "      <td>NaN</td>\n",
       "      <td>NaN</td>\n",
       "      <td>NaN</td>\n",
       "      <td>...</td>\n",
       "      <td>0.00</td>\n",
       "      <td>0.0509</td>\n",
       "      <td>0.0347</td>\n",
       "      <td>0.0705</td>\n",
       "      <td>0.108</td>\n",
       "      <td>0.0404</td>\n",
       "      <td>0.0498</td>\n",
       "      <td>0.0519</td>\n",
       "      <td>0.0516</td>\n",
       "      <td>0.0513</td>\n",
       "    </tr>\n",
       "  </tbody>\n",
       "</table>\n",
       "<p>5 rows × 57 columns</p>\n",
       "</div>"
      ],
      "text/plain": [
       "     country  1960  1961  1962  1963  1964  1965  1966  1967  1968  ...  2006  \\\n",
       "0    Albania   NaN   NaN   NaN   NaN   NaN   NaN   NaN   NaN   NaN  ...  0.00   \n",
       "1    Algeria   NaN   NaN   NaN   NaN   NaN   NaN   NaN   NaN   NaN  ...  0.00   \n",
       "2     Angola   NaN   NaN   NaN   NaN   NaN   NaN   NaN   NaN   NaN  ...  0.00   \n",
       "3  Argentina   NaN   NaN   NaN   NaN   NaN   NaN   NaN   NaN   NaN  ...  1.62   \n",
       "4    Armenia   NaN   NaN   NaN   NaN   NaN   NaN   NaN   NaN   NaN  ...  0.00   \n",
       "\n",
       "     2007    2008    2009   2010    2011    2012    2013    2014    2015  \n",
       "0  0.0000  0.0000  0.0000  0.000  0.0000  0.0000  0.0000  0.0000  0.0000  \n",
       "1  0.0000  0.0000  0.0000  0.000  0.0000  0.0000  0.0000  0.0000  0.1120  \n",
       "2  0.0000  0.0000  0.0000  0.000  0.0000  0.0000  0.0000  0.0000  0.0000  \n",
       "3  1.5700  1.3300  1.1500  1.770  1.6600  2.0300  2.1200  1.9700  1.9000  \n",
       "4  0.0509  0.0347  0.0705  0.108  0.0404  0.0498  0.0519  0.0516  0.0513  \n",
       "\n",
       "[5 rows x 57 columns]"
      ]
     },
     "execution_count": 22,
     "metadata": {},
     "output_type": "execute_result"
    }
   ],
   "source": [
    "# Load dataset about electricity production from renewable sources\n",
    "df = pd.read_csv(\"data/electricity_production_renewable.csv\")\n",
    "df.head()"
   ]
  },
  {
   "cell_type": "code",
   "execution_count": 23,
   "metadata": {},
   "outputs": [],
   "source": [
    "# Create a new dataframe with year information as a column\n",
    "df_renewable_sources = pd.DataFrame()\n",
    "df_renewable_sources[\"year\"] = pd.Series(df.columns[1:])"
   ]
  },
  {
   "cell_type": "code",
   "execution_count": 24,
   "metadata": {},
   "outputs": [
    {
     "data": {
      "text/html": [
       "<div>\n",
       "<style scoped>\n",
       "    .dataframe tbody tr th:only-of-type {\n",
       "        vertical-align: middle;\n",
       "    }\n",
       "\n",
       "    .dataframe tbody tr th {\n",
       "        vertical-align: top;\n",
       "    }\n",
       "\n",
       "    .dataframe thead th {\n",
       "        text-align: right;\n",
       "    }\n",
       "</style>\n",
       "<table border=\"1\" class=\"dataframe\">\n",
       "  <thead>\n",
       "    <tr style=\"text-align: right;\">\n",
       "      <th></th>\n",
       "      <th>year</th>\n",
       "      <th>renewable_Colombia</th>\n",
       "      <th>renewable_Japan</th>\n",
       "      <th>renewable_United_States</th>\n",
       "    </tr>\n",
       "  </thead>\n",
       "  <tbody>\n",
       "    <tr>\n",
       "      <th>0</th>\n",
       "      <td>1960</td>\n",
       "      <td>NaN</td>\n",
       "      <td>0</td>\n",
       "      <td>0.0153</td>\n",
       "    </tr>\n",
       "    <tr>\n",
       "      <th>1</th>\n",
       "      <td>1961</td>\n",
       "      <td>NaN</td>\n",
       "      <td>0</td>\n",
       "      <td>0.0215</td>\n",
       "    </tr>\n",
       "    <tr>\n",
       "      <th>2</th>\n",
       "      <td>1962</td>\n",
       "      <td>NaN</td>\n",
       "      <td>0</td>\n",
       "      <td>0.0228</td>\n",
       "    </tr>\n",
       "    <tr>\n",
       "      <th>3</th>\n",
       "      <td>1963</td>\n",
       "      <td>NaN</td>\n",
       "      <td>0</td>\n",
       "      <td>0.0294</td>\n",
       "    </tr>\n",
       "    <tr>\n",
       "      <th>4</th>\n",
       "      <td>1964</td>\n",
       "      <td>NaN</td>\n",
       "      <td>0</td>\n",
       "      <td>0.0307</td>\n",
       "    </tr>\n",
       "  </tbody>\n",
       "</table>\n",
       "</div>"
      ],
      "text/plain": [
       "   year renewable_Colombia renewable_Japan renewable_United_States\n",
       "0  1960                NaN               0                  0.0153\n",
       "1  1961                NaN               0                  0.0215\n",
       "2  1962                NaN               0                  0.0228\n",
       "3  1963                NaN               0                  0.0294\n",
       "4  1964                NaN               0                  0.0307"
      ]
     },
     "execution_count": 24,
     "metadata": {},
     "output_type": "execute_result"
    }
   ],
   "source": [
    "# Extract information for each relevant country\n",
    "columns_name_beginning = \"renewable\"\n",
    "extract_countries_info(df,df_renewable_sources,columns_name_beginning)\n",
    "df_renewable_sources.head()"
   ]
  },
  {
   "cell_type": "code",
   "execution_count": 25,
   "metadata": {},
   "outputs": [
    {
     "name": "stdout",
     "output_type": "stream",
     "text": [
      "<class 'pandas.core.frame.DataFrame'>\n",
      "RangeIndex: 56 entries, 0 to 55\n",
      "Data columns (total 4 columns):\n",
      " #   Column                   Non-Null Count  Dtype \n",
      "---  ------                   --------------  ----- \n",
      " 0   year                     56 non-null     object\n",
      " 1   renewable_Colombia       45 non-null     object\n",
      " 2   renewable_Japan          56 non-null     object\n",
      " 3   renewable_United_States  56 non-null     object\n",
      "dtypes: object(4)\n",
      "memory usage: 1.9+ KB\n"
     ]
    }
   ],
   "source": [
    "df_renewable_sources.info()"
   ]
  },
  {
   "cell_type": "code",
   "execution_count": 26,
   "metadata": {},
   "outputs": [
    {
     "data": {
      "text/plain": [
       "year                         int64\n",
       "renewable_Colombia         float64\n",
       "renewable_Japan            float64\n",
       "renewable_United_States    float64\n",
       "dtype: object"
      ]
     },
     "execution_count": 26,
     "metadata": {},
     "output_type": "execute_result"
    }
   ],
   "source": [
    "# Correct the data type of all columns\n",
    "df_renewable_sources = df_renewable_sources.astype({\"year\":\"int64\", \"renewable_Colombia\":\"float64\", \"renewable_Japan\":\"float64\", \"renewable_United_States\":\"float64\"})\n",
    "df_renewable_sources.dtypes"
   ]
  },
  {
   "cell_type": "code",
   "execution_count": 27,
   "metadata": {},
   "outputs": [
    {
     "name": "stdout",
     "output_type": "stream",
     "text": [
      "<class 'pandas.core.frame.DataFrame'>\n",
      "RangeIndex: 45 entries, 0 to 44\n",
      "Data columns (total 4 columns):\n",
      " #   Column                   Non-Null Count  Dtype  \n",
      "---  ------                   --------------  -----  \n",
      " 0   year                     45 non-null     int64  \n",
      " 1   renewable_Colombia       45 non-null     float64\n",
      " 2   renewable_Japan          45 non-null     float64\n",
      " 3   renewable_United_States  45 non-null     float64\n",
      "dtypes: float64(3), int64(1)\n",
      "memory usage: 1.5 KB\n"
     ]
    }
   ],
   "source": [
    "# Remove missing values\n",
    "df_renewable_sources.dropna(inplace=True)\n",
    "df_renewable_sources.reset_index(drop=True, inplace=True)\n",
    "df_renewable_sources.info()"
   ]
  },
  {
   "cell_type": "code",
   "execution_count": 28,
   "metadata": {},
   "outputs": [
    {
     "data": {
      "text/html": [
       "<div>\n",
       "<style scoped>\n",
       "    .dataframe tbody tr th:only-of-type {\n",
       "        vertical-align: middle;\n",
       "    }\n",
       "\n",
       "    .dataframe tbody tr th {\n",
       "        vertical-align: top;\n",
       "    }\n",
       "\n",
       "    .dataframe thead th {\n",
       "        text-align: right;\n",
       "    }\n",
       "</style>\n",
       "<table border=\"1\" class=\"dataframe\">\n",
       "  <thead>\n",
       "    <tr style=\"text-align: right;\">\n",
       "      <th></th>\n",
       "      <th>year</th>\n",
       "      <th>renewable_Colombia</th>\n",
       "      <th>renewable_Japan</th>\n",
       "      <th>renewable_United_States</th>\n",
       "    </tr>\n",
       "  </thead>\n",
       "  <tbody>\n",
       "    <tr>\n",
       "      <th>0</th>\n",
       "      <td>1971</td>\n",
       "      <td>0.00</td>\n",
       "      <td>0.0000</td>\n",
       "      <td>0.0496</td>\n",
       "    </tr>\n",
       "    <tr>\n",
       "      <th>1</th>\n",
       "      <td>1972</td>\n",
       "      <td>0.00</td>\n",
       "      <td>0.0000</td>\n",
       "      <td>0.0993</td>\n",
       "    </tr>\n",
       "    <tr>\n",
       "      <th>2</th>\n",
       "      <td>1973</td>\n",
       "      <td>0.00</td>\n",
       "      <td>0.0578</td>\n",
       "      <td>0.1400</td>\n",
       "    </tr>\n",
       "    <tr>\n",
       "      <th>3</th>\n",
       "      <td>1974</td>\n",
       "      <td>0.00</td>\n",
       "      <td>0.0219</td>\n",
       "      <td>0.1460</td>\n",
       "    </tr>\n",
       "    <tr>\n",
       "      <th>4</th>\n",
       "      <td>1975</td>\n",
       "      <td>1.46</td>\n",
       "      <td>0.0211</td>\n",
       "      <td>0.1800</td>\n",
       "    </tr>\n",
       "  </tbody>\n",
       "</table>\n",
       "</div>"
      ],
      "text/plain": [
       "   year  renewable_Colombia  renewable_Japan  renewable_United_States\n",
       "0  1971                0.00           0.0000                   0.0496\n",
       "1  1972                0.00           0.0000                   0.0993\n",
       "2  1973                0.00           0.0578                   0.1400\n",
       "3  1974                0.00           0.0219                   0.1460\n",
       "4  1975                1.46           0.0211                   0.1800"
      ]
     },
     "execution_count": 28,
     "metadata": {},
     "output_type": "execute_result"
    }
   ],
   "source": [
    "df_renewable_sources.head()"
   ]
  },
  {
   "cell_type": "markdown",
   "metadata": {},
   "source": [
    "<a id='eda'></a>\n",
    "## Exploratory Data Analysis\n",
    "\n",
    "### Q1: How do these 3 countries (Colombia, Japan, United States) compare in terms of annual CO2 emmitions per person?"
   ]
  },
  {
   "cell_type": "markdown",
   "metadata": {},
   "source": [
    "First of all, let's check some statistical data from the simplified CO2 emissions dataset."
   ]
  },
  {
   "cell_type": "code",
   "execution_count": 29,
   "metadata": {},
   "outputs": [
    {
     "data": {
      "text/html": [
       "<div>\n",
       "<style scoped>\n",
       "    .dataframe tbody tr th:only-of-type {\n",
       "        vertical-align: middle;\n",
       "    }\n",
       "\n",
       "    .dataframe tbody tr th {\n",
       "        vertical-align: top;\n",
       "    }\n",
       "\n",
       "    .dataframe thead th {\n",
       "        text-align: right;\n",
       "    }\n",
       "</style>\n",
       "<table border=\"1\" class=\"dataframe\">\n",
       "  <thead>\n",
       "    <tr style=\"text-align: right;\">\n",
       "      <th></th>\n",
       "      <th>year</th>\n",
       "      <th>co2_Colombia</th>\n",
       "      <th>co2_Japan</th>\n",
       "      <th>co2_United_States</th>\n",
       "    </tr>\n",
       "  </thead>\n",
       "  <tbody>\n",
       "    <tr>\n",
       "      <th>count</th>\n",
       "      <td>94.000000</td>\n",
       "      <td>94.000000</td>\n",
       "      <td>94.000000</td>\n",
       "      <td>94.000000</td>\n",
       "    </tr>\n",
       "    <tr>\n",
       "      <th>mean</th>\n",
       "      <td>1967.500000</td>\n",
       "      <td>1.051770</td>\n",
       "      <td>5.215787</td>\n",
       "      <td>17.035426</td>\n",
       "    </tr>\n",
       "    <tr>\n",
       "      <th>std</th>\n",
       "      <td>27.279418</td>\n",
       "      <td>0.615762</td>\n",
       "      <td>3.483594</td>\n",
       "      <td>2.917188</td>\n",
       "    </tr>\n",
       "    <tr>\n",
       "      <th>min</th>\n",
       "      <td>1921.000000</td>\n",
       "      <td>0.004480</td>\n",
       "      <td>0.672000</td>\n",
       "      <td>9.630000</td>\n",
       "    </tr>\n",
       "    <tr>\n",
       "      <th>25%</th>\n",
       "      <td>1944.250000</td>\n",
       "      <td>0.440250</td>\n",
       "      <td>1.605000</td>\n",
       "      <td>15.425000</td>\n",
       "    </tr>\n",
       "    <tr>\n",
       "      <th>50%</th>\n",
       "      <td>1967.500000</td>\n",
       "      <td>1.275000</td>\n",
       "      <td>5.185000</td>\n",
       "      <td>16.850000</td>\n",
       "    </tr>\n",
       "    <tr>\n",
       "      <th>75%</th>\n",
       "      <td>1990.750000</td>\n",
       "      <td>1.620000</td>\n",
       "      <td>8.747500</td>\n",
       "      <td>19.550000</td>\n",
       "    </tr>\n",
       "    <tr>\n",
       "      <th>max</th>\n",
       "      <td>2014.000000</td>\n",
       "      <td>1.930000</td>\n",
       "      <td>9.870000</td>\n",
       "      <td>22.200000</td>\n",
       "    </tr>\n",
       "  </tbody>\n",
       "</table>\n",
       "</div>"
      ],
      "text/plain": [
       "              year  co2_Colombia  co2_Japan  co2_United_States\n",
       "count    94.000000     94.000000  94.000000          94.000000\n",
       "mean   1967.500000      1.051770   5.215787          17.035426\n",
       "std      27.279418      0.615762   3.483594           2.917188\n",
       "min    1921.000000      0.004480   0.672000           9.630000\n",
       "25%    1944.250000      0.440250   1.605000          15.425000\n",
       "50%    1967.500000      1.275000   5.185000          16.850000\n",
       "75%    1990.750000      1.620000   8.747500          19.550000\n",
       "max    2014.000000      1.930000   9.870000          22.200000"
      ]
     },
     "execution_count": 29,
     "metadata": {},
     "output_type": "execute_result"
    }
   ],
   "source": [
    "df_co2_emissions.describe()"
   ]
  },
  {
   "cell_type": "markdown",
   "metadata": {},
   "source": [
    "It can be seen that United States has a huge average value compared to the other 2 countries. It is more than 3 times bigger than that of Japan, and 16 times bigger than the average of Colombia. But regarding standard deviation, it is bigger for Japan."
   ]
  },
  {
   "cell_type": "markdown",
   "metadata": {},
   "source": [
    "Let's create a whisker plot of these columns to have a more graphical representation of their statistical values."
   ]
  },
  {
   "cell_type": "code",
   "execution_count": 30,
   "metadata": {},
   "outputs": [
    {
     "data": {
      "image/png": "[encoded data removed]",
      "text/plain": [
       "<Figure size 432x288 with 1 Axes>"
      ]
     },
     "metadata": {
      "needs_background": "light"
     },
     "output_type": "display_data"
    }
   ],
   "source": [
    "df_co2_emissions.iloc[:,1:].plot(kind=\"box\")\n",
    "plt.grid()\n",
    "plt.title(\"Whisker plot of annual CO2 emissions per person\");"
   ]
  },
  {
   "cell_type": "markdown",
   "metadata": {},
   "source": [
    "Similar information as before, but it is much easier to check and understand the differences between each country here. It can be seen how different the range of values is for each country. It is interesting to see that the maximum value of Colombia is almost equal to the first quartile of Japan, while the maximum value of Japan is almost equal to the minimum value of United States."
   ]
  },
  {
   "cell_type": "markdown",
   "metadata": {},
   "source": [
    "But we are interested not only on fixed statistical values, but also in the change with time. So let's create a plot with year as the independent variable."
   ]
  },
  {
   "cell_type": "markdown",
   "metadata": {},
   "source": [
    "Since we need to create a plot for the remaining datasets also, let's create a function for plot creation so we avoid duplication of code."
   ]
  },
  {
   "cell_type": "code",
   "execution_count": 31,
   "metadata": {},
   "outputs": [],
   "source": [
    "def plot_creation(df, title, units):\n",
    "    plt.figure(figsize=(12,6))\n",
    "    for c in df.columns[1:]:\n",
    "        plt.plot(df[\"year\"], df[c], label=\" \".join(c.split(\"_\")[1:]))\n",
    "    plt.title(title)\n",
    "    plt.xlabel(\"Year\")\n",
    "    y_label = \" \".join(title.split()[2:])\n",
    "    plt.ylabel(\"{} ({})\".format(y_label,units))\n",
    "    plt.grid(True)\n",
    "    plt.legend()"
   ]
  },
  {
   "cell_type": "markdown",
   "metadata": {},
   "source": [
    "And now let's use this function with the CO2 emissions dataset."
   ]
  },
  {
   "cell_type": "code",
   "execution_count": 32,
   "metadata": {},
   "outputs": [
    {
     "data": {
      "image/png": "[encoded data removed]",
      "text/plain": [
       "<Figure size 864x432 with 1 Axes>"
      ]
     },
     "metadata": {
      "needs_background": "light"
     },
     "output_type": "display_data"
    }
   ],
   "source": [
    "plot_creation(df_co2_emissions, \"Comparison of CO2 emissions per person\", \"metric tonnes\")"
   ]
  },
  {
   "cell_type": "markdown",
   "metadata": {},
   "source": [
    "Ok, now it's much easier to see the difference between each country, and how much the emissions have changed over time. It seems Colombia has not had a significant change during the years included in the dataset, while Japan had a big increase after 1960, and United States has had a big relative value even from the beginning of the years analysed, and also a significant increase after 1960, similar to that of Japan. It's worth noting that the CO2 emissions from United States seem to have declined from the year 2000, but it's sill far bigger than the one for the remaining 2 countries of our study."
   ]
  },
  {
   "cell_type": "markdown",
   "metadata": {},
   "source": [
    "### Q2: How do these countries (Colombia, Japan, United States) compare in terms of annual residential electricity use per person?"
   ]
  },
  {
   "cell_type": "markdown",
   "metadata": {},
   "source": [
    "Let's check some statistical data from the simplified electricity usage dataset."
   ]
  },
  {
   "cell_type": "code",
   "execution_count": 33,
   "metadata": {},
   "outputs": [
    {
     "data": {
      "text/html": [
       "<div>\n",
       "<style scoped>\n",
       "    .dataframe tbody tr th:only-of-type {\n",
       "        vertical-align: middle;\n",
       "    }\n",
       "\n",
       "    .dataframe tbody tr th {\n",
       "        vertical-align: top;\n",
       "    }\n",
       "\n",
       "    .dataframe thead th {\n",
       "        text-align: right;\n",
       "    }\n",
       "</style>\n",
       "<table border=\"1\" class=\"dataframe\">\n",
       "  <thead>\n",
       "    <tr style=\"text-align: right;\">\n",
       "      <th></th>\n",
       "      <th>year</th>\n",
       "      <th>electricity_Colombia</th>\n",
       "      <th>electricity_Japan</th>\n",
       "      <th>electricity_United_States</th>\n",
       "    </tr>\n",
       "  </thead>\n",
       "  <tbody>\n",
       "    <tr>\n",
       "      <th>count</th>\n",
       "      <td>38.000000</td>\n",
       "      <td>38.000000</td>\n",
       "      <td>38.000000</td>\n",
       "      <td>38.000000</td>\n",
       "    </tr>\n",
       "    <tr>\n",
       "      <th>mean</th>\n",
       "      <td>1989.500000</td>\n",
       "      <td>307.394737</td>\n",
       "      <td>1474.894737</td>\n",
       "      <td>3610.789474</td>\n",
       "    </tr>\n",
       "    <tr>\n",
       "      <th>std</th>\n",
       "      <td>11.113055</td>\n",
       "      <td>85.675863</td>\n",
       "      <td>530.191286</td>\n",
       "      <td>635.594557</td>\n",
       "    </tr>\n",
       "    <tr>\n",
       "      <th>min</th>\n",
       "      <td>1971.000000</td>\n",
       "      <td>132.000000</td>\n",
       "      <td>591.000000</td>\n",
       "      <td>2380.000000</td>\n",
       "    </tr>\n",
       "    <tr>\n",
       "      <th>25%</th>\n",
       "      <td>1980.250000</td>\n",
       "      <td>257.250000</td>\n",
       "      <td>1006.750000</td>\n",
       "      <td>3140.000000</td>\n",
       "    </tr>\n",
       "    <tr>\n",
       "      <th>50%</th>\n",
       "      <td>1989.500000</td>\n",
       "      <td>333.000000</td>\n",
       "      <td>1465.000000</td>\n",
       "      <td>3650.000000</td>\n",
       "    </tr>\n",
       "    <tr>\n",
       "      <th>75%</th>\n",
       "      <td>1998.750000</td>\n",
       "      <td>379.000000</td>\n",
       "      <td>1977.500000</td>\n",
       "      <td>4097.500000</td>\n",
       "    </tr>\n",
       "    <tr>\n",
       "      <th>max</th>\n",
       "      <td>2008.000000</td>\n",
       "      <td>405.000000</td>\n",
       "      <td>2280.000000</td>\n",
       "      <td>4620.000000</td>\n",
       "    </tr>\n",
       "  </tbody>\n",
       "</table>\n",
       "</div>"
      ],
      "text/plain": [
       "              year  electricity_Colombia  electricity_Japan  \\\n",
       "count    38.000000             38.000000          38.000000   \n",
       "mean   1989.500000            307.394737        1474.894737   \n",
       "std      11.113055             85.675863         530.191286   \n",
       "min    1971.000000            132.000000         591.000000   \n",
       "25%    1980.250000            257.250000        1006.750000   \n",
       "50%    1989.500000            333.000000        1465.000000   \n",
       "75%    1998.750000            379.000000        1977.500000   \n",
       "max    2008.000000            405.000000        2280.000000   \n",
       "\n",
       "       electricity_United_States  \n",
       "count                  38.000000  \n",
       "mean                 3610.789474  \n",
       "std                   635.594557  \n",
       "min                  2380.000000  \n",
       "25%                  3140.000000  \n",
       "50%                  3650.000000  \n",
       "75%                  4097.500000  \n",
       "max                  4620.000000  "
      ]
     },
     "execution_count": 33,
     "metadata": {},
     "output_type": "execute_result"
    }
   ],
   "source": [
    "df_electricity_use.describe()"
   ]
  },
  {
   "cell_type": "markdown",
   "metadata": {},
   "source": [
    "It seems United States has the higher average (more than twice than Japan,and more the 11 times than Colombia) and also the biggest standard deviation."
   ]
  },
  {
   "cell_type": "markdown",
   "metadata": {},
   "source": [
    "Let's create a whisker plot of this dataset."
   ]
  },
  {
   "cell_type": "code",
   "execution_count": 34,
   "metadata": {},
   "outputs": [
    {
     "data": {
      "image/png": "[encoded data removed]",
      "text/plain": [
       "<Figure size 432x288 with 1 Axes>"
      ]
     },
     "metadata": {
      "needs_background": "light"
     },
     "output_type": "display_data"
    }
   ],
   "source": [
    "df_electricity_use.iloc[:,1:].plot(kind=\"box\")\n",
    "plt.grid()\n",
    "plt.title(\"Whisker plot of residential electricity use per person\");"
   ]
  },
  {
   "cell_type": "markdown",
   "metadata": {},
   "source": [
    "It can be easily seen how big the difference between United States and the other 2 countries is, especially when compared to Colombia. It is interesting to see that the distributions seem to be very symmetrical, but Colombia has a very small range when compared to te other 2 countries."
   ]
  },
  {
   "cell_type": "markdown",
   "metadata": {},
   "source": [
    "Let's create a plot of this dataset."
   ]
  },
  {
   "cell_type": "code",
   "execution_count": 35,
   "metadata": {},
   "outputs": [
    {
     "data": {
      "image/png": "[encoded data removed]",
      "text/plain": [
       "<Figure size 864x432 with 1 Axes>"
      ]
     },
     "metadata": {
      "needs_background": "light"
     },
     "output_type": "display_data"
    }
   ],
   "source": [
    "plot_creation(df_electricity_use, \"Comparison of Residential electricity use per person\", \"kWh\")"
   ]
  },
  {
   "cell_type": "markdown",
   "metadata": {},
   "source": [
    "Again,it can be seen how big the difference between United States and the other countries is. Both Japan and United States have had a steady increase over the years, while Colombia has kept a relatively stable smaller value during the period included in the dataset."
   ]
  },
  {
   "cell_type": "markdown",
   "metadata": {},
   "source": [
    "### Q3: How do these countries compare in terms of electricity production from renewable resources?"
   ]
  },
  {
   "cell_type": "markdown",
   "metadata": {},
   "source": [
    "Let's check some statistical data from the simplified electricity usage dataset."
   ]
  },
  {
   "cell_type": "code",
   "execution_count": 36,
   "metadata": {},
   "outputs": [
    {
     "data": {
      "text/html": [
       "<div>\n",
       "<style scoped>\n",
       "    .dataframe tbody tr th:only-of-type {\n",
       "        vertical-align: middle;\n",
       "    }\n",
       "\n",
       "    .dataframe tbody tr th {\n",
       "        vertical-align: top;\n",
       "    }\n",
       "\n",
       "    .dataframe thead th {\n",
       "        text-align: right;\n",
       "    }\n",
       "</style>\n",
       "<table border=\"1\" class=\"dataframe\">\n",
       "  <thead>\n",
       "    <tr style=\"text-align: right;\">\n",
       "      <th></th>\n",
       "      <th>year</th>\n",
       "      <th>renewable_Colombia</th>\n",
       "      <th>renewable_Japan</th>\n",
       "      <th>renewable_United_States</th>\n",
       "    </tr>\n",
       "  </thead>\n",
       "  <tbody>\n",
       "    <tr>\n",
       "      <th>count</th>\n",
       "      <td>45.000000</td>\n",
       "      <td>45.000000</td>\n",
       "      <td>45.000000</td>\n",
       "      <td>45.000000</td>\n",
       "    </tr>\n",
       "    <tr>\n",
       "      <th>mean</th>\n",
       "      <td>1993.000000</td>\n",
       "      <td>1.271889</td>\n",
       "      <td>1.678889</td>\n",
       "      <td>1.921931</td>\n",
       "    </tr>\n",
       "    <tr>\n",
       "      <th>std</th>\n",
       "      <td>13.133926</td>\n",
       "      <td>0.900891</td>\n",
       "      <td>1.595583</td>\n",
       "      <td>1.889834</td>\n",
       "    </tr>\n",
       "    <tr>\n",
       "      <th>min</th>\n",
       "      <td>1971.000000</td>\n",
       "      <td>0.000000</td>\n",
       "      <td>0.000000</td>\n",
       "      <td>0.049600</td>\n",
       "    </tr>\n",
       "    <tr>\n",
       "      <th>25%</th>\n",
       "      <td>1982.000000</td>\n",
       "      <td>1.010000</td>\n",
       "      <td>1.240000</td>\n",
       "      <td>0.262000</td>\n",
       "    </tr>\n",
       "    <tr>\n",
       "      <th>50%</th>\n",
       "      <td>1993.000000</td>\n",
       "      <td>1.070000</td>\n",
       "      <td>1.430000</td>\n",
       "      <td>1.900000</td>\n",
       "    </tr>\n",
       "    <tr>\n",
       "      <th>75%</th>\n",
       "      <td>2004.000000</td>\n",
       "      <td>1.150000</td>\n",
       "      <td>1.900000</td>\n",
       "      <td>2.270000</td>\n",
       "    </tr>\n",
       "    <tr>\n",
       "      <th>max</th>\n",
       "      <td>2015.000000</td>\n",
       "      <td>4.130000</td>\n",
       "      <td>7.760000</td>\n",
       "      <td>7.390000</td>\n",
       "    </tr>\n",
       "  </tbody>\n",
       "</table>\n",
       "</div>"
      ],
      "text/plain": [
       "              year  renewable_Colombia  renewable_Japan  \\\n",
       "count    45.000000           45.000000        45.000000   \n",
       "mean   1993.000000            1.271889         1.678889   \n",
       "std      13.133926            0.900891         1.595583   \n",
       "min    1971.000000            0.000000         0.000000   \n",
       "25%    1982.000000            1.010000         1.240000   \n",
       "50%    1993.000000            1.070000         1.430000   \n",
       "75%    2004.000000            1.150000         1.900000   \n",
       "max    2015.000000            4.130000         7.760000   \n",
       "\n",
       "       renewable_United_States  \n",
       "count                45.000000  \n",
       "mean                  1.921931  \n",
       "std                   1.889834  \n",
       "min                   0.049600  \n",
       "25%                   0.262000  \n",
       "50%                   1.900000  \n",
       "75%                   2.270000  \n",
       "max                   7.390000  "
      ]
     },
     "execution_count": 36,
     "metadata": {},
     "output_type": "execute_result"
    }
   ],
   "source": [
    "df_renewable_sources.describe()"
   ]
  },
  {
   "cell_type": "markdown",
   "metadata": {},
   "source": [
    "Based on these results, it can be seen that the mean is still higher for United States, but this time the difference with the other 2 countries is not as big as the difference found for the previous 2 datasets. Also, the standard deviation is very big for this dataset, almost as big as the average value for Japan and United States."
   ]
  },
  {
   "cell_type": "markdown",
   "metadata": {},
   "source": [
    "Let's create a whisker plot."
   ]
  },
  {
   "cell_type": "code",
   "execution_count": 37,
   "metadata": {},
   "outputs": [
    {
     "data": {
      "image/png": "[encoded data removed]",
      "text/plain": [
       "<Figure size 432x288 with 1 Axes>"
      ]
     },
     "metadata": {
      "needs_background": "light"
     },
     "output_type": "display_data"
    }
   ],
   "source": [
    "df_renewable_sources.iloc[:,1:].plot(kind=\"box\")\n",
    "plt.grid()\n",
    "plt.title(\"Whisker plot of electricity production from renewable resources\");"
   ]
  },
  {
   "cell_type": "markdown",
   "metadata": {},
   "source": [
    "It allows us to graphically confirm there is no such a big difference between median values for each country, but there is a significant difference in their IQR. Especially, Colombia seems to have a very small IQR. Also, it seems there are many values regarded as outliers, which means they are smaller than $Q1 - 1.5 * IQR$, or bigger than $Q3 + 1.5 * IQR$."
   ]
  },
  {
   "cell_type": "markdown",
   "metadata": {},
   "source": [
    "Now, let's create a plot of this dataset."
   ]
  },
  {
   "cell_type": "code",
   "execution_count": 38,
   "metadata": {},
   "outputs": [
    {
     "data": {
      "image/png": "[encoded data removed]",
      "text/plain": [
       "<Figure size 864x432 with 1 Axes>"
      ]
     },
     "metadata": {
      "needs_background": "light"
     },
     "output_type": "display_data"
    }
   ],
   "source": [
    "plot_creation(df_renewable_sources, \"Comparison of Percentage of electricity production from renewable resources\", \"%\")"
   ]
  },
  {
   "cell_type": "markdown",
   "metadata": {},
   "source": [
    "From here, it can be seen that Colombia had a big increase in 1975, then became stable aorund 1.2% for several years, and then had another big increase up to 4% in 2010. However, this value decreased up to 3.2 in the following years. As for Japan, there was an increase up to almost 2% in 1982, then a decrease up to to 1.3% in 1990, a period with a similar value for several years, and then a big increase starting from 2010, up to becoming the country with the highest percentage out of the 3 target countries. As for United States, it had some big increments around 1990 and 2006, which made it the country with the biggest percentage for many years, until recently, when it was surpassed by Japan."
   ]
  },
  {
   "cell_type": "markdown",
   "metadata": {},
   "source": [
    "<a id='conclusions'></a>\n",
    "## Conclusions"
   ]
  },
  {
   "cell_type": "markdown",
   "metadata": {},
   "source": [
    "Based on the results above, it can be said that out of the 3 countries included in this study, Colombia can be considered as the most environmentally friendly, due to the significant differences in CO2 emissions and residential electricity use. But it is worth noting that Colombia is still a developing country, whereas Japan and United States are developed countries, and also that in terms of percentage of electricity production from renewable sources, both Japan and United States have had a bigger percentage during the recent years."
   ]
  },
  {
   "cell_type": "markdown",
   "metadata": {},
   "source": [
    "<a id='limitations'></a>\n",
    "### Note: Limitations"
   ]
  },
  {
   "cell_type": "markdown",
   "metadata": {},
   "source": [
    "It is important to note that the conclusion above is based only on a very limited set of information, and cannot be considered as decisive. For example, only 3 variables are not enough to fully judge if a country is environmentally friendly or not. Also, the size of each dataset in this study is very small after the removal of missing values (94 rows for the CO2 emissions dataset, 38 rows for the residential electricity use dataset, and 45 rows for the renewable resources dataset), and the range of years only lasts until 2014 for the CO2 emissions dataset, 2008 for the residential electricity use dataset, and 2015 for the renewable resources dataset. In order to reach a more accurate conclusion, it would be needed to consider more variables, and use datasets with more complete and recent data."
   ]
  }
 ],
 "metadata": {
  "kernelspec": {
   "display_name": "Python 3",
   "language": "python",
   "name": "python3"
  },
  "language_info": {
   "codemirror_mode": {
    "name": "ipython",
    "version": 3
   },
   "file_extension": ".py",
   "mimetype": "text/x-python",
   "name": "python",
   "nbconvert_exporter": "python",
   "pygments_lexer": "ipython3",
   "version": "3.8.3"
  }
 },
 "nbformat": 4,
 "nbformat_minor": 2
}
